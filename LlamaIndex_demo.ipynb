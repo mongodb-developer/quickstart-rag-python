{
 "cells": [
  {
   "cell_type": "code",
   "execution_count": null,
   "metadata": {},
   "outputs": [],
   "source": [
    "import os\n",
    "import pymongo\n",
    "import openai\n",
    "from llama_index import Document, VectorStoreIndex, StorageContext\n",
    "from llama_index.storage.docstore import MongoDocumentStore\n",
    "from llama_index.storage.index_store import MongoIndexStore\n",
    "from llama_index.vector_stores.mongodb import MongoDBAtlasVectorSearch\n",
    "from llama_index.readers import SimpleMongoReader\n",
    "\n",
    "print(\"True\")"
   ]
  },
  {
   "cell_type": "code",
   "execution_count": null,
   "metadata": {},
   "outputs": [],
   "source": [
    "#Create a new client and connect to the server\n",
    "client = pymongo.MongoClient(os.getenv(\"MONGODB_URI\"))\n",
    "documents = [Document(text='Sports'), Document(text='Grocery'), Document(text='Clothing')]\n",
    "print(\"True\")"
   ]
  },
  {
   "cell_type": "code",
   "execution_count": null,
   "metadata": {},
   "outputs": [],
   "source": [
    "# create Atlas as a vector store\n",
    "store = MongoDBAtlasVectorSearch(client, db_name=os.getenv('MONGODB_DB2'),collection_name=os.getenv('MONGODB_COLL2'),index_name=os.getenv('MONGODB_VECTOR_INDEX'))\n",
    "storage_context = StorageContext.from_defaults(vector_store=store)\n",
    "\n",
    "index = VectorStoreIndex.from_documents(documents, storage_context=storage_context, show_progress=True)\n",
    "response = index.as_query_engine().query('Suggest a department for a basketball')\n",
    "print(response)\n"
   ]
  }
 ],
 "metadata": {
  "kernelspec": {
   "display_name": "Python 3",
   "language": "python",
   "name": "python3"
  },
  "language_info": {
   "codemirror_mode": {
    "name": "ipython",
    "version": 3
   },
   "file_extension": ".py",
   "mimetype": "text/x-python",
   "name": "python",
   "nbconvert_exporter": "python",
   "pygments_lexer": "ipython3",
   "version": "3.8.12"
  }
 },
 "nbformat": 4,
 "nbformat_minor": 2
}
