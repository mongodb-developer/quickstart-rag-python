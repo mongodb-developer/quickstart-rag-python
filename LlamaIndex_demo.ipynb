{
 "cells": [
  {
   "cell_type": "code",
   "execution_count": null,
   "metadata": {},
   "outputs": [],
   "source": [
    "import os\n",
    "import pymongo\n",
    "import openai\n",
    "from llama_index.core import VectorStoreIndex,StorageContext, SimpleDirectoryReader\n",
    "from llama_index.core.schema import Document\n",
    "from llama_index.vector_stores.mongodb import MongoDBAtlasVectorSearch\n",
    "from llama_index.readers.mongodb import SimpleMongoReader"
   ]
  },
  {
   "cell_type": "code",
   "execution_count": null,
   "metadata": {},
   "outputs": [],
   "source": [
    "reader = SimpleMongoReader(uri=os.getenv(\"MONGODB_URI\"))\n",
    "documents = reader.load_data(\n",
    "    os.getenv(\"MONGODB_DB\"),\n",
    "    os.getenv(\"MONGODB_COLL\"), \n",
    "    field_names=[\"title\",\"plot\"], # these is a list of the top-level fields in your objects that will be indexed\n",
    "    query_dict={} # this is a mongo query dict that will filter your data if you don't want to index everything\n",
    ")\n",
    "print(documents[0])"
   ]
  },
  {
   "cell_type": "code",
   "execution_count": null,
   "metadata": {},
   "outputs": [],
   "source": [
    "# Create a new client and connect to the server\n",
    "client = pymongo.MongoClient(os.getenv(\"MONGODB_URI\"))\n",
    "\n",
    "# create Atlas as a vector store\n",
    "store = MongoDBAtlasVectorSearch(\n",
    "    client,\n",
    "    db_name=os.getenv('MONGODB_DB'),\n",
    "    collection_name=os.getenv('MONGODB_VECTOR_COLL_LLAMAINDEX'), # this is where your embeddings will be stored\n",
    "    index_name=os.getenv('MONGODB_VECTOR_INDEX') # this is the name of the index you will need to create\n",
    ")\n",
    "\n",
    "# now create an index from all the Documents and store them in Atlas\n",
    "storage_context = StorageContext.from_defaults(vector_store=store)\n",
    "index = VectorStoreIndex.from_documents(\n",
    "    documents, storage_context=storage_context,\n",
    "    show_progress=True, # this will show you a progress bar as the embeddings are created\n",
    ")\n"
   ]
  },
  {
   "cell_type": "code",
   "execution_count": null,
   "metadata": {},
   "outputs": [],
   "source": [
    "prompt=\"Young Ones Set in the future when water is hard to find, a teenage boy sets out to protect his family and survive\"\n",
    "response = index.as_query_engine(similarity_top_k=5).query(prompt)\n",
    "\n",
    "print(response)"
   ]
  }
 ],
 "metadata": {
  "kernelspec": {
   "display_name": "Python 3",
   "language": "python",
   "name": "python3"
  },
  "language_info": {
   "codemirror_mode": {
    "name": "ipython",
    "version": 3
   },
   "file_extension": ".py",
   "mimetype": "text/x-python",
   "name": "python",
   "nbconvert_exporter": "python",
   "pygments_lexer": "ipython3",
   "version": "3.8.12"
  }
 },
 "nbformat": 4,
 "nbformat_minor": 2
}
