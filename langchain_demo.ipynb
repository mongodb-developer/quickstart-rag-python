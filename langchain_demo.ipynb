{
 "cells": [
  {
   "cell_type": "code",
   "execution_count": null,
   "metadata": {},
   "outputs": [],
   "source": [
    "import os\n",
    "from pymongo import MongoClient\n",
    "from langchain.vectorstores import MongoDBAtlasVectorSearch\n",
    "from langchain.embeddings import OpenAIEmbeddings\n",
    "from langchain.llms import OpenAI\n",
    "from dotenv import load_dotenv\n",
    "from langchain.document_loaders.mongodb import MongodbLoader\n",
    "import nest_asyncio\n",
    "\n",
    "nest_asyncio.apply()\n",
    "load_dotenv()"
   ]
  },
  {
   "cell_type": "code",
   "execution_count": null,
   "metadata": {},
   "outputs": [],
   "source": [
    "loader = MongodbLoader(\n",
    "    connection_string=os.getenv('MONGODB_URI'),\n",
    "    db_name=os.getenv('MONGODB_DB'),\n",
    "    collection_name=os.getenv('MONGODB_COLL'),\n",
    "    filter_criteria={},\n",
    "    field_names=[\"title\",\"plot\"]\n",
    ")\n",
    "docs = loader.load()\n",
    "\n",
    "len(docs)"
   ]
  },
  {
   "cell_type": "code",
   "execution_count": null,
   "metadata": {},
   "outputs": [],
   "source": [
    "client = MongoClient(os.getenv('MONGODB_URI'))\n",
    "collection = client[os.getenv('MONGODB_DB')][os.getenv('MONGODB_VECTOR_COLL_LANGCHAIN')]\n",
    "\n",
    "vector_search = MongoDBAtlasVectorSearch.from_documents(\n",
    "  documents=docs,\n",
    "  embedding=OpenAIEmbeddings(openai_api_key=os.getenv('OPENAI_API_KEY')),\n",
    "  collection=collection,\n",
    "  index_name=os.getenv('MONGODB_VECTOR_INDEX'))"
   ]
  },
  {
   "cell_type": "code",
   "execution_count": null,
   "metadata": {},
   "outputs": [],
   "source": [
    "\n",
    "# perform a similarity search on the ingested documents\n",
    "prompt='Young Ones Set in the future when water is hard to find, a teenage boy sets out to protect his family and survive'\n",
    "docs = vector_search.similarity_search(prompt,1)\n",
    "for doc in docs:\n",
    "    print(doc.page_content)\n",
    "\n",
    "# perform a similarity search with score on the ingested documents\n",
    "\n",
    "docs_with_score = vector_search.similarity_search_with_score(query=prompt,k=1)\n",
    "print(\" \")\n",
    "print(\"Result with Scores\")\n",
    "\n",
    "for doc, score in docs_with_score:\n",
    "    print(doc.page_content)\n",
    "    print(score)"
   ]
  }
 ],
 "metadata": {
  "kernelspec": {
   "display_name": "Python 3",
   "language": "python",
   "name": "python3"
  },
  "language_info": {
   "codemirror_mode": {
    "name": "ipython",
    "version": 3
   },
   "file_extension": ".py",
   "mimetype": "text/x-python",
   "name": "python",
   "nbconvert_exporter": "python",
   "pygments_lexer": "ipython3",
   "version": "3.8.12"
  }
 },
 "nbformat": 4,
 "nbformat_minor": 2
}
