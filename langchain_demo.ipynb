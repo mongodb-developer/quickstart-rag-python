{
 "cells": [
  {
   "cell_type": "code",
   "execution_count": null,
   "metadata": {},
   "outputs": [],
   "source": [
    "import os\n",
    "from pymongo import MongoClient\n",
    "from langchain.vectorstores import MongoDBAtlasVectorSearch\n",
    "from langchain.embeddings import OpenAIEmbeddings\n",
    "from langchain.llms import OpenAI\n",
    "from dotenv import load_dotenv\n",
    "\n",
    "load_dotenv()"
   ]
  },
  {
   "cell_type": "code",
   "execution_count": null,
   "metadata": {},
   "outputs": [],
   "source": [
    "\n",
    "client = MongoClient(os.getenv('MONGODB_URI'))\n",
    "db_name = os.getenv('MONGODB_DB')\n",
    "collection_name = os.getenv('MONGODB_COLL')\n",
    "collection = client[db_name][collection_name]\n",
    "print(db_name,collection_name)\n",
    "prompt = \"Which movies is scary?\"\n",
    "\n",
    "print('True')\n"
   ]
  },
  {
   "cell_type": "code",
   "execution_count": null,
   "metadata": {},
   "outputs": [],
   "source": [
    "\n",
    "# initialize vector store\n",
    "vectorstore = MongoDBAtlasVectorSearch(\n",
    "    collection=collection, \n",
    "    embedding=OpenAIEmbeddings(openai_api_key=os.getenv('OPENAI_API_KEY')), \n",
    "    index_name=\"vector_index\", \n",
    "    embedding_key='plot_embedding',\n",
    "    text_key='plot'\n",
    ")\n",
    "\n",
    "# perform a similarity search between a query and the ingested documents\n",
    "docs = vectorstore.similarity_search(prompt,5)\n",
    "print(prompt)\n",
    "for doc in docs:\n",
    "    print(doc.metadata['title'],'-', doc.page_content)\n",
    "\n",
    "docs_with_score = vectorstore.similarity_search_with_score(query=prompt,k=2)\n",
    "print(\" \")\n",
    "print(prompt)\n",
    "\n",
    "for doc, score in docs_with_score:\n",
    "    metadata = doc.metadata  \n",
    "    # print(metadata)\n",
    "    print(metadata['title'], '-', doc.page_content)\n",
    "    print(score)\n",
    "\n",
    "client.close()\n"
   ]
  }
 ],
 "metadata": {
  "kernelspec": {
   "display_name": "Python 3",
   "language": "python",
   "name": "python3"
  },
  "language_info": {
   "codemirror_mode": {
    "name": "ipython",
    "version": 3
   },
   "file_extension": ".py",
   "mimetype": "text/x-python",
   "name": "python",
   "nbconvert_exporter": "python",
   "pygments_lexer": "ipython3",
   "version": "3.8.12"
  }
 },
 "nbformat": 4,
 "nbformat_minor": 2
}
